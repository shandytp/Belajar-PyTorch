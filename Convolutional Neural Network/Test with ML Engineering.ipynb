{
 "cells": [
  {
   "cell_type": "code",
   "execution_count": 9,
   "metadata": {
    "ExecuteTime": {
     "end_time": "2020-10-14T12:02:29.883913Z",
     "start_time": "2020-10-14T12:02:29.827899Z"
    }
   },
   "outputs": [],
   "source": [
    "import numpy as np\n",
    "import matplotlib.pyplot as plt"
   ]
  },
  {
   "cell_type": "code",
   "execution_count": 13,
   "metadata": {
    "ExecuteTime": {
     "end_time": "2020-10-14T12:03:06.414668Z",
     "start_time": "2020-10-14T12:03:06.352670Z"
    }
   },
   "outputs": [
    {
     "name": "stdout",
     "output_type": "stream",
     "text": [
      "The autoreload extension is already loaded. To reload it, use:\n",
      "  %reload_ext autoreload\n"
     ]
    }
   ],
   "source": [
    "from predict import prediction\n",
    "from train import train\n",
    "import torch\n",
    "%load_ext autoreload\n",
    "%autoreload 2"
   ]
  },
  {
   "cell_type": "code",
   "execution_count": 3,
   "metadata": {
    "ExecuteTime": {
     "end_time": "2020-10-14T11:48:31.137689Z",
     "start_time": "2020-10-14T11:44:51.597347Z"
    }
   },
   "outputs": [
    {
     "name": "stderr",
     "output_type": "stream",
     "text": [
      "Train: 100%|███████████████████████████████████████████████| 8/8 [00:06<00:00,  1.33it/s]\n",
      "Test: 100%|████████████████████████████████████████████████| 4/4 [00:00<00:00,  7.91it/s]\n",
      "Train:   0%|                                                       | 0/8 [00:00<?, ?it/s]"
     ]
    },
    {
     "name": "stdout",
     "output_type": "stream",
     "text": [
      "\n",
      "Epoch     1\n",
      "Train_cost  = 0.6946 | Test_cost  = 0.6913 | Train_score = 0.4850 | Test_score = 0.5000 |\n"
     ]
    },
    {
     "name": "stderr",
     "output_type": "stream",
     "text": [
      "Train: 100%|███████████████████████████████████████████████| 8/8 [00:04<00:00,  1.64it/s]\n",
      "Test: 100%|████████████████████████████████████████████████| 4/4 [00:00<00:00,  7.86it/s]\n",
      "Train:   0%|                                                       | 0/8 [00:00<?, ?it/s]"
     ]
    },
    {
     "name": "stdout",
     "output_type": "stream",
     "text": [
      "\n",
      "Epoch     2\n",
      "Train_cost  = 0.6917 | Test_cost  = 0.6876 | Train_score = 0.5100 | Test_score = 0.5525 |\n"
     ]
    },
    {
     "name": "stderr",
     "output_type": "stream",
     "text": [
      "Train: 100%|███████████████████████████████████████████████| 8/8 [00:05<00:00,  1.46it/s]\n",
      "Test: 100%|████████████████████████████████████████████████| 4/4 [00:00<00:00,  8.00it/s]\n",
      "Train:   0%|                                                       | 0/8 [00:00<?, ?it/s]"
     ]
    },
    {
     "name": "stdout",
     "output_type": "stream",
     "text": [
      "\n",
      "Epoch     3\n",
      "Train_cost  = 0.6807 | Test_cost  = 0.6639 | Train_score = 0.5070 | Test_score = 0.5025 |\n",
      "\u001b[31m==> EarlyStop patience =  1 | Best test_score: 0.5525\u001b[0m\n"
     ]
    },
    {
     "name": "stderr",
     "output_type": "stream",
     "text": [
      "Train: 100%|███████████████████████████████████████████████| 8/8 [00:04<00:00,  1.66it/s]\n",
      "Test: 100%|████████████████████████████████████████████████| 4/4 [00:00<00:00,  8.05it/s]\n",
      "Train:   0%|                                                       | 0/8 [00:00<?, ?it/s]"
     ]
    },
    {
     "name": "stdout",
     "output_type": "stream",
     "text": [
      "\n",
      "Epoch     4\n",
      "Train_cost  = 0.6333 | Test_cost  = 0.5615 | Train_score = 0.6270 | Test_score = 0.7950 |\n"
     ]
    },
    {
     "name": "stderr",
     "output_type": "stream",
     "text": [
      "Train: 100%|███████████████████████████████████████████████| 8/8 [00:04<00:00,  1.68it/s]\n",
      "Test: 100%|████████████████████████████████████████████████| 4/4 [00:00<00:00,  8.26it/s]\n"
     ]
    },
    {
     "name": "stdout",
     "output_type": "stream",
     "text": [
      "\n",
      "Epoch     5\n",
      "Train_cost  = 0.5430 | Test_cost  = 0.4584 | Train_score = 0.7450 | Test_score = 0.7975 |\n"
     ]
    },
    {
     "name": "stderr",
     "output_type": "stream",
     "text": [
      "Train: 100%|███████████████████████████████████████████████| 8/8 [00:04<00:00,  1.73it/s]\n",
      "Test: 100%|████████████████████████████████████████████████| 4/4 [00:00<00:00,  8.18it/s]\n",
      "Train:   0%|                                                       | 0/8 [00:00<?, ?it/s]"
     ]
    },
    {
     "name": "stdout",
     "output_type": "stream",
     "text": [
      "\n",
      "Epoch     6\n",
      "Train_cost  = 0.5075 | Test_cost  = 0.4475 | Train_score = 0.7610 | Test_score = 0.7825 |\n",
      "\u001b[31m==> EarlyStop patience =  1 | Best test_score: 0.7975\u001b[0m\n"
     ]
    },
    {
     "name": "stderr",
     "output_type": "stream",
     "text": [
      "Train: 100%|███████████████████████████████████████████████| 8/8 [00:05<00:00,  1.54it/s]\n",
      "Test: 100%|████████████████████████████████████████████████| 4/4 [00:00<00:00,  7.78it/s]\n",
      "Train:   0%|                                                       | 0/8 [00:00<?, ?it/s]"
     ]
    },
    {
     "name": "stdout",
     "output_type": "stream",
     "text": [
      "\n",
      "Epoch     7\n",
      "Train_cost  = 0.4815 | Test_cost  = 0.4874 | Train_score = 0.7800 | Test_score = 0.7600 |\n",
      "\u001b[31m==> EarlyStop patience =  2 | Best test_score: 0.7975\u001b[0m\n"
     ]
    },
    {
     "name": "stderr",
     "output_type": "stream",
     "text": [
      "Train: 100%|███████████████████████████████████████████████| 8/8 [00:04<00:00,  1.68it/s]\n",
      "Test: 100%|████████████████████████████████████████████████| 4/4 [00:00<00:00,  8.35it/s]\n",
      "Train:   0%|                                                       | 0/8 [00:00<?, ?it/s]"
     ]
    },
    {
     "name": "stdout",
     "output_type": "stream",
     "text": [
      "\n",
      "Epoch     8\n",
      "Train_cost  = 0.4852 | Test_cost  = 0.4537 | Train_score = 0.7800 | Test_score = 0.7825 |\n",
      "\u001b[31m==> EarlyStop patience =  3 | Best test_score: 0.7975\u001b[0m\n"
     ]
    },
    {
     "name": "stderr",
     "output_type": "stream",
     "text": [
      "Train: 100%|███████████████████████████████████████████████| 8/8 [00:04<00:00,  1.75it/s]\n",
      "Test: 100%|████████████████████████████████████████████████| 4/4 [00:00<00:00,  8.18it/s]\n",
      "Train:   0%|                                                       | 0/8 [00:00<?, ?it/s]"
     ]
    },
    {
     "name": "stdout",
     "output_type": "stream",
     "text": [
      "\n",
      "Epoch     9\n",
      "Train_cost  = 0.4601 | Test_cost  = 0.4260 | Train_score = 0.7850 | Test_score = 0.7950 |\n",
      "\u001b[31m==> EarlyStop patience =  4 | Best test_score: 0.7975\u001b[0m\n"
     ]
    },
    {
     "name": "stderr",
     "output_type": "stream",
     "text": [
      "Train: 100%|███████████████████████████████████████████████| 8/8 [00:04<00:00,  1.77it/s]\n",
      "Test: 100%|████████████████████████████████████████████████| 4/4 [00:00<00:00,  8.39it/s]\n",
      "Train:   0%|                                                       | 0/8 [00:00<?, ?it/s]"
     ]
    },
    {
     "name": "stdout",
     "output_type": "stream",
     "text": [
      "\n",
      "Epoch    10\n",
      "Train_cost  = 0.4508 | Test_cost  = 0.4022 | Train_score = 0.7870 | Test_score = 0.8125 |\n"
     ]
    },
    {
     "name": "stderr",
     "output_type": "stream",
     "text": [
      "Train: 100%|███████████████████████████████████████████████| 8/8 [00:04<00:00,  1.71it/s]\n",
      "Test: 100%|████████████████████████████████████████████████| 4/4 [00:00<00:00,  7.66it/s]\n",
      "Train:   0%|                                                       | 0/8 [00:00<?, ?it/s]"
     ]
    },
    {
     "name": "stdout",
     "output_type": "stream",
     "text": [
      "\n",
      "Epoch    11\n",
      "Train_cost  = 0.4284 | Test_cost  = 0.4086 | Train_score = 0.8060 | Test_score = 0.7925 |\n",
      "\u001b[31m==> EarlyStop patience =  1 | Best test_score: 0.8125\u001b[0m\n"
     ]
    },
    {
     "name": "stderr",
     "output_type": "stream",
     "text": [
      "Train: 100%|███████████████████████████████████████████████| 8/8 [00:05<00:00,  1.40it/s]\n",
      "Test: 100%|████████████████████████████████████████████████| 4/4 [00:00<00:00,  7.68it/s]\n",
      "Train:   0%|                                                       | 0/8 [00:00<?, ?it/s]"
     ]
    },
    {
     "name": "stdout",
     "output_type": "stream",
     "text": [
      "\n",
      "Epoch    12\n",
      "Train_cost  = 0.4363 | Test_cost  = 0.4067 | Train_score = 0.7980 | Test_score = 0.8050 |\n",
      "\u001b[31m==> EarlyStop patience =  2 | Best test_score: 0.8125\u001b[0m\n"
     ]
    },
    {
     "name": "stderr",
     "output_type": "stream",
     "text": [
      "Train: 100%|███████████████████████████████████████████████| 8/8 [00:05<00:00,  1.39it/s]\n",
      "Test: 100%|████████████████████████████████████████████████| 4/4 [00:00<00:00,  6.36it/s]\n",
      "Train:   0%|                                                       | 0/8 [00:00<?, ?it/s]"
     ]
    },
    {
     "name": "stdout",
     "output_type": "stream",
     "text": [
      "\n",
      "Epoch    13\n",
      "Train_cost  = 0.4124 | Test_cost  = 0.3717 | Train_score = 0.8120 | Test_score = 0.8425 |\n"
     ]
    },
    {
     "name": "stderr",
     "output_type": "stream",
     "text": [
      "Train: 100%|███████████████████████████████████████████████| 8/8 [00:05<00:00,  1.38it/s]\n",
      "Test: 100%|████████████████████████████████████████████████| 4/4 [00:00<00:00,  8.39it/s]\n",
      "Train:   0%|                                                       | 0/8 [00:00<?, ?it/s]"
     ]
    },
    {
     "name": "stdout",
     "output_type": "stream",
     "text": [
      "\n",
      "Epoch    14\n",
      "Train_cost  = 0.4089 | Test_cost  = 0.3617 | Train_score = 0.8130 | Test_score = 0.8350 |\n",
      "\u001b[31m==> EarlyStop patience =  1 | Best test_score: 0.8425\u001b[0m\n"
     ]
    },
    {
     "name": "stderr",
     "output_type": "stream",
     "text": [
      "Train: 100%|███████████████████████████████████████████████| 8/8 [00:05<00:00,  1.54it/s]\n",
      "Test: 100%|████████████████████████████████████████████████| 4/4 [00:00<00:00,  7.74it/s]\n",
      "Train:   0%|                                                       | 0/8 [00:00<?, ?it/s]"
     ]
    },
    {
     "name": "stdout",
     "output_type": "stream",
     "text": [
      "\n",
      "Epoch    15\n",
      "Train_cost  = 0.3832 | Test_cost  = 0.3489 | Train_score = 0.8340 | Test_score = 0.8475 |\n"
     ]
    },
    {
     "name": "stderr",
     "output_type": "stream",
     "text": [
      "Train: 100%|███████████████████████████████████████████████| 8/8 [00:05<00:00,  1.46it/s]\n",
      "Test: 100%|████████████████████████████████████████████████| 4/4 [00:00<00:00,  5.56it/s]\n",
      "Train:   0%|                                                       | 0/8 [00:00<?, ?it/s]"
     ]
    },
    {
     "name": "stdout",
     "output_type": "stream",
     "text": [
      "\n",
      "Epoch    16\n",
      "Train_cost  = 0.3758 | Test_cost  = 0.3482 | Train_score = 0.8330 | Test_score = 0.8550 |\n"
     ]
    },
    {
     "name": "stderr",
     "output_type": "stream",
     "text": [
      "Train: 100%|███████████████████████████████████████████████| 8/8 [00:05<00:00,  1.47it/s]\n",
      "Test: 100%|████████████████████████████████████████████████| 4/4 [00:00<00:00,  6.02it/s]\n",
      "Train:   0%|                                                       | 0/8 [00:00<?, ?it/s]"
     ]
    },
    {
     "name": "stdout",
     "output_type": "stream",
     "text": [
      "\n",
      "Epoch    17\n",
      "Train_cost  = 0.3630 | Test_cost  = 0.3308 | Train_score = 0.8330 | Test_score = 0.8525 |\n",
      "\u001b[31m==> EarlyStop patience =  1 | Best test_score: 0.8550\u001b[0m\n"
     ]
    },
    {
     "name": "stderr",
     "output_type": "stream",
     "text": [
      "Train: 100%|███████████████████████████████████████████████| 8/8 [00:05<00:00,  1.58it/s]\n",
      "Test: 100%|████████████████████████████████████████████████| 4/4 [00:00<00:00,  8.10it/s]\n",
      "Train:   0%|                                                       | 0/8 [00:00<?, ?it/s]"
     ]
    },
    {
     "name": "stdout",
     "output_type": "stream",
     "text": [
      "\n",
      "Epoch    18\n",
      "Train_cost  = 0.3667 | Test_cost  = 0.3290 | Train_score = 0.8340 | Test_score = 0.8600 |\n"
     ]
    },
    {
     "name": "stderr",
     "output_type": "stream",
     "text": [
      "Train: 100%|███████████████████████████████████████████████| 8/8 [00:05<00:00,  1.36it/s]\n",
      "Test: 100%|████████████████████████████████████████████████| 4/4 [00:00<00:00,  6.24it/s]\n",
      "Train:   0%|                                                       | 0/8 [00:00<?, ?it/s]"
     ]
    },
    {
     "name": "stdout",
     "output_type": "stream",
     "text": [
      "\n",
      "Epoch    19\n",
      "Train_cost  = 0.3593 | Test_cost  = 0.3287 | Train_score = 0.8440 | Test_score = 0.8625 |\n"
     ]
    },
    {
     "name": "stderr",
     "output_type": "stream",
     "text": [
      "Train: 100%|███████████████████████████████████████████████| 8/8 [00:05<00:00,  1.59it/s]\n",
      "Test: 100%|████████████████████████████████████████████████| 4/4 [00:00<00:00,  7.81it/s]\n"
     ]
    },
    {
     "name": "stdout",
     "output_type": "stream",
     "text": [
      "\n",
      "Epoch    20\n",
      "Train_cost  = 0.3622 | Test_cost  = 0.3821 | Train_score = 0.8430 | Test_score = 0.8350 |\n"
     ]
    },
    {
     "data": {
      "image/png": "[encoded data removed]",
      "text/plain": [
       "<Figure size 576x360 with 1 Axes>"
      ]
     },
     "metadata": {
      "needs_background": "light"
     },
     "output_type": "display_data"
    },
    {
     "data": {
      "image/png": "[encoded data removed]",
      "text/plain": [
       "<Figure size 576x360 with 1 Axes>"
      ]
     },
     "metadata": {
      "needs_background": "light"
     },
     "output_type": "display_data"
    },
    {
     "name": "stderr",
     "output_type": "stream",
     "text": [
      "\r",
      "Train:   0%|                                                       | 0/8 [00:00<?, ?it/s]"
     ]
    },
    {
     "name": "stdout",
     "output_type": "stream",
     "text": [
      "\u001b[31m==> EarlyStop patience =  1 | Best test_score: 0.8625\u001b[0m\n"
     ]
    },
    {
     "name": "stderr",
     "output_type": "stream",
     "text": [
      "Train: 100%|███████████████████████████████████████████████| 8/8 [00:04<00:00,  1.63it/s]\n",
      "Test: 100%|████████████████████████████████████████████████| 4/4 [00:00<00:00,  7.14it/s]\n",
      "Train:   0%|                                                       | 0/8 [00:00<?, ?it/s]"
     ]
    },
    {
     "name": "stdout",
     "output_type": "stream",
     "text": [
      "\n",
      "Epoch    21\n",
      "Train_cost  = 0.3557 | Test_cost  = 0.3431 | Train_score = 0.8450 | Test_score = 0.8425 |\n",
      "\u001b[31m==> EarlyStop patience =  2 | Best test_score: 0.8625\u001b[0m\n"
     ]
    },
    {
     "name": "stderr",
     "output_type": "stream",
     "text": [
      "Train: 100%|███████████████████████████████████████████████| 8/8 [00:04<00:00,  1.63it/s]\n",
      "Test: 100%|████████████████████████████████████████████████| 4/4 [00:00<00:00,  7.89it/s]\n",
      "Train:   0%|                                                       | 0/8 [00:00<?, ?it/s]"
     ]
    },
    {
     "name": "stdout",
     "output_type": "stream",
     "text": [
      "\n",
      "Epoch    22\n",
      "Train_cost  = 0.3793 | Test_cost  = 0.3189 | Train_score = 0.8290 | Test_score = 0.8675 |\n"
     ]
    },
    {
     "name": "stderr",
     "output_type": "stream",
     "text": [
      "Train: 100%|███████████████████████████████████████████████| 8/8 [00:05<00:00,  1.51it/s]\n",
      "Test: 100%|████████████████████████████████████████████████| 4/4 [00:00<00:00,  7.33it/s]\n",
      "Train:   0%|                                                       | 0/8 [00:00<?, ?it/s]"
     ]
    },
    {
     "name": "stdout",
     "output_type": "stream",
     "text": [
      "\n",
      "Epoch    23\n",
      "Train_cost  = 0.3595 | Test_cost  = 0.3133 | Train_score = 0.8460 | Test_score = 0.8750 |\n"
     ]
    },
    {
     "name": "stderr",
     "output_type": "stream",
     "text": [
      "Train: 100%|███████████████████████████████████████████████| 8/8 [00:04<00:00,  1.61it/s]\n",
      "Test: 100%|████████████████████████████████████████████████| 4/4 [00:00<00:00,  7.72it/s]\n",
      "Train:   0%|                                                       | 0/8 [00:00<?, ?it/s]"
     ]
    },
    {
     "name": "stdout",
     "output_type": "stream",
     "text": [
      "\n",
      "Epoch    24\n",
      "Train_cost  = 0.3291 | Test_cost  = 0.3414 | Train_score = 0.8590 | Test_score = 0.8525 |\n",
      "\u001b[31m==> EarlyStop patience =  1 | Best test_score: 0.8750\u001b[0m\n"
     ]
    },
    {
     "name": "stderr",
     "output_type": "stream",
     "text": [
      "Train: 100%|███████████████████████████████████████████████| 8/8 [00:05<00:00,  1.59it/s]\n",
      "Test: 100%|████████████████████████████████████████████████| 4/4 [00:00<00:00,  7.94it/s]\n",
      "Train:   0%|                                                       | 0/8 [00:00<?, ?it/s]"
     ]
    },
    {
     "name": "stdout",
     "output_type": "stream",
     "text": [
      "\n",
      "Epoch    25\n",
      "Train_cost  = 0.3342 | Test_cost  = 0.3116 | Train_score = 0.8640 | Test_score = 0.8750 |\n",
      "\u001b[31m==> EarlyStop patience =  2 | Best test_score: 0.8750\u001b[0m\n"
     ]
    },
    {
     "name": "stderr",
     "output_type": "stream",
     "text": [
      "Train: 100%|███████████████████████████████████████████████| 8/8 [00:04<00:00,  1.63it/s]\n",
      "Test: 100%|████████████████████████████████████████████████| 4/4 [00:00<00:00,  7.89it/s]\n",
      "Train:   0%|                                                       | 0/8 [00:00<?, ?it/s]"
     ]
    },
    {
     "name": "stdout",
     "output_type": "stream",
     "text": [
      "\n",
      "Epoch    26\n",
      "Train_cost  = 0.3615 | Test_cost  = 0.3085 | Train_score = 0.8450 | Test_score = 0.8575 |\n",
      "\u001b[31m==> EarlyStop patience =  3 | Best test_score: 0.8750\u001b[0m\n"
     ]
    },
    {
     "name": "stderr",
     "output_type": "stream",
     "text": [
      "Train: 100%|███████████████████████████████████████████████| 8/8 [00:04<00:00,  1.60it/s]\n",
      "Test: 100%|████████████████████████████████████████████████| 4/4 [00:00<00:00,  7.89it/s]\n",
      "Train:   0%|                                                       | 0/8 [00:00<?, ?it/s]"
     ]
    },
    {
     "name": "stdout",
     "output_type": "stream",
     "text": [
      "\n",
      "Epoch    27\n",
      "Train_cost  = 0.3443 | Test_cost  = 0.3564 | Train_score = 0.8540 | Test_score = 0.8350 |\n",
      "\u001b[31m==> EarlyStop patience =  4 | Best test_score: 0.8750\u001b[0m\n"
     ]
    },
    {
     "name": "stderr",
     "output_type": "stream",
     "text": [
      "Train: 100%|███████████████████████████████████████████████| 8/8 [00:04<00:00,  1.62it/s]\n",
      "Test: 100%|████████████████████████████████████████████████| 4/4 [00:00<00:00,  7.78it/s]\n",
      "Train:   0%|                                                       | 0/8 [00:00<?, ?it/s]"
     ]
    },
    {
     "name": "stdout",
     "output_type": "stream",
     "text": [
      "\n",
      "Epoch    28\n",
      "Train_cost  = 0.3465 | Test_cost  = 0.2914 | Train_score = 0.8530 | Test_score = 0.8825 |\n"
     ]
    },
    {
     "name": "stderr",
     "output_type": "stream",
     "text": [
      "Train: 100%|███████████████████████████████████████████████| 8/8 [00:04<00:00,  1.61it/s]\n",
      "Test: 100%|████████████████████████████████████████████████| 4/4 [00:00<00:00,  7.83it/s]\n",
      "Train:   0%|                                                       | 0/8 [00:00<?, ?it/s]"
     ]
    },
    {
     "name": "stdout",
     "output_type": "stream",
     "text": [
      "\n",
      "Epoch    29\n",
      "Train_cost  = 0.3269 | Test_cost  = 0.2891 | Train_score = 0.8590 | Test_score = 0.8825 |\n",
      "\u001b[31m==> EarlyStop patience =  1 | Best test_score: 0.8825\u001b[0m\n"
     ]
    },
    {
     "name": "stderr",
     "output_type": "stream",
     "text": [
      "Train: 100%|███████████████████████████████████████████████| 8/8 [00:04<00:00,  1.62it/s]\n",
      "Test: 100%|████████████████████████████████████████████████| 4/4 [00:00<00:00,  7.21it/s]\n",
      "Train:   0%|                                                       | 0/8 [00:00<?, ?it/s]"
     ]
    },
    {
     "name": "stdout",
     "output_type": "stream",
     "text": [
      "\n",
      "Epoch    30\n",
      "Train_cost  = 0.3025 | Test_cost  = 0.3142 | Train_score = 0.8750 | Test_score = 0.8700 |\n",
      "\u001b[31m==> EarlyStop patience =  2 | Best test_score: 0.8825\u001b[0m\n"
     ]
    },
    {
     "name": "stderr",
     "output_type": "stream",
     "text": [
      "Train: 100%|███████████████████████████████████████████████| 8/8 [00:04<00:00,  1.64it/s]\n",
      "Test: 100%|████████████████████████████████████████████████| 4/4 [00:00<00:00,  7.92it/s]\n",
      "Train:   0%|                                                       | 0/8 [00:00<?, ?it/s]"
     ]
    },
    {
     "name": "stdout",
     "output_type": "stream",
     "text": [
      "\n",
      "Epoch    31\n",
      "Train_cost  = 0.3055 | Test_cost  = 0.2759 | Train_score = 0.8690 | Test_score = 0.8900 |\n"
     ]
    },
    {
     "name": "stderr",
     "output_type": "stream",
     "text": [
      "Train: 100%|███████████████████████████████████████████████| 8/8 [00:05<00:00,  1.49it/s]\n",
      "Test: 100%|████████████████████████████████████████████████| 4/4 [00:00<00:00,  6.86it/s]\n",
      "Train:   0%|                                                       | 0/8 [00:00<?, ?it/s]"
     ]
    },
    {
     "name": "stdout",
     "output_type": "stream",
     "text": [
      "\n",
      "Epoch    32\n",
      "Train_cost  = 0.2951 | Test_cost  = 0.2990 | Train_score = 0.8780 | Test_score = 0.8875 |\n",
      "\u001b[31m==> EarlyStop patience =  1 | Best test_score: 0.8900\u001b[0m\n"
     ]
    },
    {
     "name": "stderr",
     "output_type": "stream",
     "text": [
      "Train: 100%|███████████████████████████████████████████████| 8/8 [00:05<00:00,  1.40it/s]\n",
      "Test: 100%|████████████████████████████████████████████████| 4/4 [00:00<00:00,  8.18it/s]\n",
      "Train:   0%|                                                       | 0/8 [00:00<?, ?it/s]"
     ]
    },
    {
     "name": "stdout",
     "output_type": "stream",
     "text": [
      "\n",
      "Epoch    33\n",
      "Train_cost  = 0.3018 | Test_cost  = 0.2729 | Train_score = 0.8670 | Test_score = 0.9075 |\n"
     ]
    },
    {
     "name": "stderr",
     "output_type": "stream",
     "text": [
      "Train: 100%|███████████████████████████████████████████████| 8/8 [00:05<00:00,  1.60it/s]\n",
      "Test: 100%|████████████████████████████████████████████████| 4/4 [00:00<00:00,  6.26it/s]\n",
      "Train:   0%|                                                       | 0/8 [00:00<?, ?it/s]"
     ]
    },
    {
     "name": "stdout",
     "output_type": "stream",
     "text": [
      "\n",
      "Epoch    34\n",
      "Train_cost  = 0.2971 | Test_cost  = 0.2710 | Train_score = 0.8760 | Test_score = 0.8875 |\n",
      "\u001b[31m==> EarlyStop patience =  1 | Best test_score: 0.9075\u001b[0m\n"
     ]
    },
    {
     "name": "stderr",
     "output_type": "stream",
     "text": [
      "Train: 100%|███████████████████████████████████████████████| 8/8 [00:05<00:00,  1.55it/s]\n",
      "Test: 100%|████████████████████████████████████████████████| 4/4 [00:00<00:00,  5.71it/s]\n",
      "Train:   0%|                                                       | 0/8 [00:00<?, ?it/s]"
     ]
    },
    {
     "name": "stdout",
     "output_type": "stream",
     "text": [
      "\n",
      "Epoch    35\n",
      "Train_cost  = 0.2807 | Test_cost  = 0.3236 | Train_score = 0.8850 | Test_score = 0.8575 |\n",
      "\u001b[31m==> EarlyStop patience =  2 | Best test_score: 0.9075\u001b[0m\n"
     ]
    },
    {
     "name": "stderr",
     "output_type": "stream",
     "text": [
      "Train: 100%|███████████████████████████████████████████████| 8/8 [00:04<00:00,  1.61it/s]\n",
      "Test: 100%|████████████████████████████████████████████████| 4/4 [00:00<00:00,  7.84it/s]\n",
      "Train:   0%|                                                       | 0/8 [00:00<?, ?it/s]"
     ]
    },
    {
     "name": "stdout",
     "output_type": "stream",
     "text": [
      "\n",
      "Epoch    36\n",
      "Train_cost  = 0.2822 | Test_cost  = 0.2685 | Train_score = 0.8810 | Test_score = 0.8900 |\n",
      "\u001b[31m==> EarlyStop patience =  3 | Best test_score: 0.9075\u001b[0m\n"
     ]
    },
    {
     "name": "stderr",
     "output_type": "stream",
     "text": [
      "Train: 100%|███████████████████████████████████████████████| 8/8 [00:04<00:00,  1.70it/s]\n",
      "Test: 100%|████████████████████████████████████████████████| 4/4 [00:00<00:00,  8.00it/s]\n",
      "Train:   0%|                                                       | 0/8 [00:00<?, ?it/s]"
     ]
    },
    {
     "name": "stdout",
     "output_type": "stream",
     "text": [
      "\n",
      "Epoch    37\n",
      "Train_cost  = 0.2747 | Test_cost  = 0.2612 | Train_score = 0.8860 | Test_score = 0.8850 |\n",
      "\u001b[31m==> EarlyStop patience =  4 | Best test_score: 0.9075\u001b[0m\n"
     ]
    },
    {
     "name": "stderr",
     "output_type": "stream",
     "text": [
      "Train: 100%|███████████████████████████████████████████████| 8/8 [00:04<00:00,  1.62it/s]\n",
      "Test: 100%|████████████████████████████████████████████████| 4/4 [00:00<00:00,  7.59it/s]\n"
     ]
    },
    {
     "name": "stdout",
     "output_type": "stream",
     "text": [
      "\n",
      "Epoch    38\n",
      "Train_cost  = 0.2688 | Test_cost  = 0.2551 | Train_score = 0.8830 | Test_score = 0.8900 |\n",
      "\u001b[31m==> EarlyStop patience =  5 | Best test_score: 0.9075\u001b[0m\n",
      "\u001b[31m==> Execute Early Stopping at epoch: 38 | Best test_score: 0.9075\u001b[0m\n",
      "\u001b[31m==> Best model is saved at model\u001b[0m\n"
     ]
    },
    {
     "data": {
      "image/png": "[encoded data removed]",
      "text/plain": [
       "<Figure size 576x360 with 1 Axes>"
      ]
     },
     "metadata": {
      "needs_background": "light"
     },
     "output_type": "display_data"
    },
    {
     "data": {
      "image/png": "[encoded data removed]",
      "text/plain": [
       "<Figure size 576x360 with 1 Axes>"
      ]
     },
     "metadata": {
      "needs_background": "light"
     },
     "output_type": "display_data"
    }
   ],
   "source": [
    "train()"
   ]
  },
  {
   "cell_type": "code",
   "execution_count": 14,
   "metadata": {
    "ExecuteTime": {
     "end_time": "2020-10-14T12:03:08.899055Z",
     "start_time": "2020-10-14T12:03:08.656148Z"
    }
   },
   "outputs": [
    {
     "ename": "NameError",
     "evalue": "name 'feature' is not defined",
     "output_type": "error",
     "traceback": [
      "\u001b[1;31m---------------------------------------------------------------------------\u001b[0m",
      "\u001b[1;31mNameError\u001b[0m                                 Traceback (most recent call last)",
      "\u001b[1;32m<ipython-input-14-ea4022813e09>\u001b[0m in \u001b[0;36m<module>\u001b[1;34m\u001b[0m\n\u001b[1;32m----> 1\u001b[1;33m \u001b[0mprediction\u001b[0m\u001b[1;33m(\u001b[0m\u001b[1;33m)\u001b[0m\u001b[1;33m\u001b[0m\u001b[1;33m\u001b[0m\u001b[0m\n\u001b[0m",
      "\u001b[1;32mD:\\Belajar PyTorch\\Convolutional Neural Network\\predict.py\u001b[0m in \u001b[0;36mprediction\u001b[1;34m()\u001b[0m\n\u001b[0;32m     16\u001b[0m     \u001b[1;32mwith\u001b[0m \u001b[0mtorch\u001b[0m\u001b[1;33m.\u001b[0m\u001b[0mno_grad\u001b[0m\u001b[1;33m(\u001b[0m\u001b[1;33m)\u001b[0m\u001b[1;33m:\u001b[0m\u001b[1;33m\u001b[0m\u001b[1;33m\u001b[0m\u001b[0m\n\u001b[0;32m     17\u001b[0m         \u001b[0mmodel\u001b[0m\u001b[1;33m.\u001b[0m\u001b[0meval\u001b[0m\u001b[1;33m(\u001b[0m\u001b[1;33m)\u001b[0m\u001b[1;33m\u001b[0m\u001b[1;33m\u001b[0m\u001b[0m\n\u001b[1;32m---> 18\u001b[1;33m         \u001b[0moutput\u001b[0m \u001b[1;33m=\u001b[0m \u001b[0mmodel\u001b[0m\u001b[1;33m(\u001b[0m\u001b[0mfeature\u001b[0m\u001b[1;33m)\u001b[0m\u001b[1;33m\u001b[0m\u001b[1;33m\u001b[0m\u001b[0m\n\u001b[0m\u001b[0;32m     19\u001b[0m         \u001b[0mpreds\u001b[0m \u001b[1;33m=\u001b[0m \u001b[0moutput\u001b[0m\u001b[1;33m.\u001b[0m\u001b[0margmax\u001b[0m\u001b[1;33m(\u001b[0m\u001b[1;36m1\u001b[0m\u001b[1;33m)\u001b[0m\u001b[1;33m\u001b[0m\u001b[1;33m\u001b[0m\u001b[0m\n\u001b[0;32m     20\u001b[0m \u001b[1;33m\u001b[0m\u001b[0m\n",
      "\u001b[1;31mNameError\u001b[0m: name 'feature' is not defined"
     ]
    }
   ],
   "source": [
    "prediction()"
   ]
  },
  {
   "cell_type": "markdown",
   "metadata": {},
   "source": [
    "# HOW TO FIX THIS ERROR?"
   ]
  }
 ],
 "metadata": {
  "kernelspec": {
   "display_name": "Python 3.7.6 64-bit ('tensorflow': conda)",
   "language": "python",
   "name": "python37664bittensorflowcondae25139d521174ed8abc6d94fb10b9a60"
  },
  "language_info": {
   "codemirror_mode": {
    "name": "ipython",
    "version": 3
   },
   "file_extension": ".py",
   "mimetype": "text/x-python",
   "name": "python",
   "nbconvert_exporter": "python",
   "pygments_lexer": "ipython3",
   "version": "3.7.6"
  }
 },
 "nbformat": 4,
 "nbformat_minor": 2
}
