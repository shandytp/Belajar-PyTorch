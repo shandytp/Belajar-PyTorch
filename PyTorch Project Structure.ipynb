{
 "cells": [
  {
   "cell_type": "markdown",
   "metadata": {},
   "source": [
    "# Example Structure "
   ]
  },
  {
   "cell_type": "markdown",
   "metadata": {},
   "source": [
    "Tiap orang memiliki struktur yang berbeda-beda. Software engineering sudah seperti seni bagi para programmer agar code tersusun dengan rapi dan maintainable agar programmer yang lain akan memakai kode kita akan gampang memahaminya.\n",
    "\n",
    "Berikut contoh project structure"
   ]
  },
  {
   "cell_type": "markdown",
   "metadata": {},
   "source": [
    "```\n",
    "project\n",
    "    assets\n",
    "    data\n",
    "    output\n",
    "    notebook\n",
    "    src\n",
    "        __init__.py\n",
    "        model.py\n",
    "        dataset.py\n",
    "        utlis.py\n",
    "        exception.py\n",
    "        predict.py\n",
    "    config.py\n",
    "    train.py\n",
    "    environment.yml\n",
    "    README.md\n",
    "    LICENSE\n",
    "```"
   ]
  },
  {
   "cell_type": "markdown",
   "metadata": {},
   "source": [
    "Keterangan struktur :\n",
    "\n",
    "- assets\n",
    "\n",
    "  folder ini berisi file media (biasantya image) yang digunakan pada README dan notebook.\n",
    "  \n",
    "- data\n",
    "\n",
    "  folder ini berisi dataset untuk training\n",
    "  \n",
    "- output\n",
    "\n",
    "  folder ini untuk output, model, log, dll\n",
    "  \n",
    "- notebook\n",
    "\n",
    "  folder untuk menyimpan code berupa jupyter notebook.\n",
    "  \n",
    "- src\n",
    "\n",
    "  Folder ini isinya source code.\n",
    "  \n",
    "  - `__init__`.py\n",
    "    \n",
    "    file yang dipakai python untuk menginialisasi folder menjadi module\n",
    "    \n",
    "  - model.py\n",
    "  \n",
    "    berisi arsitektur custom yang digunakan untuk training\n",
    "    \n",
    "  - dataset.py\n",
    "  \n",
    "    berisi custom Dataset dan Dataloader\n",
    "    \n",
    "  - utils.py\n",
    "  \n",
    "    berisi fungsi - fungsi utilitas \n",
    "    \n",
    "  - exception.py\n",
    "  \n",
    "    berisi custom exception yang dibutuhkan pada source code lainnya\n",
    "    \n",
    "  - predict.py\n",
    "  \n",
    "    berisi class yang dapat melakukan prediksi data baru\n",
    "    \n",
    "- config.py\n",
    "\n",
    "  Tempat untuk config yang diedit oleh user\n",
    "  \n",
    "- train.py\n",
    "\n",
    "  berisi PyTorch training workflow (dataset & dataloader, config, training preparation MCOC, dan training)\n",
    "  \n",
    "- environment.yml\n",
    "\n",
    "  file untuk membuat conda environment project"
   ]
  }
 ],
 "metadata": {
  "kernelspec": {
   "display_name": "Python 3.7.6 64-bit ('tensorflow': conda)",
   "language": "python",
   "name": "python37664bittensorflowcondae25139d521174ed8abc6d94fb10b9a60"
  },
  "language_info": {
   "codemirror_mode": {
    "name": "ipython",
    "version": 3
   },
   "file_extension": ".py",
   "mimetype": "text/x-python",
   "name": "python",
   "nbconvert_exporter": "python",
   "pygments_lexer": "ipython3",
   "version": "3.7.6"
  }
 },
 "nbformat": 4,
 "nbformat_minor": 2
}
