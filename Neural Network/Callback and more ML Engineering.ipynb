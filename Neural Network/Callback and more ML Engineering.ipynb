{
 "cells": [
  {
   "cell_type": "code",
   "execution_count": 1,
   "metadata": {
    "ExecuteTime": {
     "end_time": "2020-10-07T11:10:16.289019Z",
     "start_time": "2020-10-07T11:10:15.486714Z"
    }
   },
   "outputs": [
    {
     "data": {
      "text/plain": [
       "device(type='cuda')"
      ]
     },
     "execution_count": 1,
     "metadata": {},
     "output_type": "execute_result"
    }
   ],
   "source": [
    "import torch\n",
    "from torch import nn, optim\n",
    "from jcopdl.callback import Callback, set_config\n",
    "\n",
    "device = torch.device(\"cuda\" if torch.cuda.is_available() else \"cpu\")\n",
    "device"
   ]
  },
  {
   "cell_type": "markdown",
   "metadata": {},
   "source": [
    "# Dataset and Dataloader"
   ]
  },
  {
   "cell_type": "code",
   "execution_count": 2,
   "metadata": {
    "ExecuteTime": {
     "end_time": "2020-10-07T11:18:10.892622Z",
     "start_time": "2020-10-07T11:18:10.889607Z"
    }
   },
   "outputs": [],
   "source": [
    "from torchvision import datasets, transforms # Untuk handle data image\n",
    "from torch.utils.data import DataLoader"
   ]
  },
  {
   "cell_type": "code",
   "execution_count": 8,
   "metadata": {
    "ExecuteTime": {
     "end_time": "2020-10-07T12:03:24.972828Z",
     "start_time": "2020-10-07T12:03:24.656682Z"
    }
   },
   "outputs": [],
   "source": [
    "BATCH_SIZE = 128\n",
    "\n",
    "# Kita buat\n",
    "transform = transforms.Compose([\n",
    "    transforms.Grayscale(),\n",
    "    transforms.ToTensor()\n",
    "])\n",
    "\n",
    "train_set = datasets.ImageFolder(\"data/train/\", transform=transform)\n",
    "trainloader = DataLoader(train_set, batch_size=BATCH_SIZE, shuffle=True)\n",
    "\n",
    "test_set = datasets.ImageFolder(\"data/test/\", transform=transform)\n",
    "testloader = DataLoader(test_set, batch_size=BATCH_SIZE)"
   ]
  },
  {
   "cell_type": "code",
   "execution_count": 56,
   "metadata": {
    "ExecuteTime": {
     "end_time": "2020-10-07T14:26:37.161655Z",
     "start_time": "2020-10-07T14:26:37.112128Z"
    }
   },
   "outputs": [
    {
     "data": {
      "text/plain": [
       "torch.Size([128, 1, 28, 28])"
      ]
     },
     "execution_count": 56,
     "metadata": {},
     "output_type": "execute_result"
    }
   ],
   "source": [
    "feature, target = next(iter(trainloader))\n",
    "feature.shape # Karena PyTorch, harus n,c,h,w (data, channel, height, width)"
   ]
  },
  {
   "cell_type": "code",
   "execution_count": 57,
   "metadata": {
    "ExecuteTime": {
     "end_time": "2020-10-07T14:26:47.925642Z",
     "start_time": "2020-10-07T14:26:47.919679Z"
    }
   },
   "outputs": [
    {
     "data": {
      "text/plain": [
       "784"
      ]
     },
     "execution_count": 57,
     "metadata": {},
     "output_type": "execute_result"
    }
   ],
   "source": [
    "feature.shape[2] * feature.shape[3]"
   ]
  },
  {
   "cell_type": "code",
   "execution_count": 15,
   "metadata": {
    "ExecuteTime": {
     "end_time": "2020-10-07T12:07:42.493241Z",
     "start_time": "2020-10-07T12:07:42.487202Z"
    }
   },
   "outputs": [
    {
     "data": {
      "text/plain": [
       "['Ankle boot',\n",
       " 'Bag',\n",
       " 'Coat',\n",
       " 'Dress',\n",
       " 'Pullover',\n",
       " 'Sandal',\n",
       " 'Shirt',\n",
       " 'Sneaker',\n",
       " 'T-shirt or Top',\n",
       " 'Trouser']"
      ]
     },
     "execution_count": 15,
     "metadata": {},
     "output_type": "execute_result"
    }
   ],
   "source": [
    "label2cat = train_set.classes\n",
    "label2cat"
   ]
  },
  {
   "cell_type": "markdown",
   "metadata": {},
   "source": [
    "# Arsitektur dan Config "
   ]
  },
  {
   "cell_type": "markdown",
   "metadata": {},
   "source": [
    "# Cara 1 Pakai library jcopdl "
   ]
  },
  {
   "cell_type": "code",
   "execution_count": 16,
   "metadata": {
    "ExecuteTime": {
     "end_time": "2020-10-07T13:02:16.253766Z",
     "start_time": "2020-10-07T13:02:16.249801Z"
    }
   },
   "outputs": [],
   "source": [
    "from jcopdl.layers import linear_block"
   ]
  },
  {
   "cell_type": "code",
   "execution_count": 17,
   "metadata": {
    "ExecuteTime": {
     "end_time": "2020-10-07T13:06:41.894520Z",
     "start_time": "2020-10-07T13:06:41.888925Z"
    }
   },
   "outputs": [],
   "source": [
    "class FashionClassifier(nn.Module):\n",
    "    def __init__(self, input_size, n1, n2, output_size, dropout=0.2):\n",
    "        super().__init__()\n",
    "        self.fc = nn.Sequential(\n",
    "            nn.Flatten(), # Karena image, di input shape nya di Flatten terlebih dahulu\n",
    "            linear_block(input_size, n1, dropout=dropout), # Isi linear_block itu layer linear -> ReLU -> Dropout\n",
    "            linear_block(n1, n2, dropout=dropout),\n",
    "            linear_block(n2, output_size, activation='lsoftmax')\n",
    "        )\n",
    "        \n",
    "        \n",
    "    def forward(self, x):\n",
    "        return self.fc(x)"
   ]
  },
  {
   "cell_type": "markdown",
   "metadata": {},
   "source": [
    "# Cara 2  "
   ]
  },
  {
   "cell_type": "code",
   "execution_count": null,
   "metadata": {},
   "outputs": [],
   "source": [
    "class FashionClassifier(nn.Module):\n",
    "    def __init__(self, input_size, n1, n2, output_size, dropout=0.2):\n",
    "        super().__init__()\n",
    "        self.fc = nn.Sequential(\n",
    "            nn.Flatten(), # Karena image, di input shape nya di Flatten terlebih dahulu\n",
    "            nn.Linear(input_size, n1),\n",
    "            nn.ReLU(),\n",
    "            nn.Dropout(0.2),\n",
    "            nn.Linear(n1, n2),\n",
    "            nn.ReLU(),\n",
    "            nn.Dropout(0.2),\n",
    "            nn.Linear(n2, output_size),\n",
    "            nn.LogSoftmax()\n",
    "        )\n",
    "        \n",
    "    def forward(self, x):\n",
    "        return self.fc(x)"
   ]
  },
  {
   "cell_type": "code",
   "execution_count": 21,
   "metadata": {
    "ExecuteTime": {
     "end_time": "2020-10-07T13:11:37.419049Z",
     "start_time": "2020-10-07T13:11:37.415041Z"
    }
   },
   "outputs": [],
   "source": [
    "config = set_config({\n",
    "    \"input_size\": feature.shape[2] * feature.shape[3],\n",
    "    \"n1\": 256,\n",
    "    \"n2\": 128,\n",
    "    \"output_size\": len(train_set.classes),\n",
    "    \"dropout\": 0.2\n",
    "})"
   ]
  },
  {
   "cell_type": "code",
   "execution_count": 22,
   "metadata": {
    "ExecuteTime": {
     "end_time": "2020-10-07T13:12:47.301085Z",
     "start_time": "2020-10-07T13:12:47.295084Z"
    }
   },
   "outputs": [
    {
     "data": {
      "text/plain": [
       "784"
      ]
     },
     "execution_count": 22,
     "metadata": {},
     "output_type": "execute_result"
    }
   ],
   "source": [
    "config.input_size"
   ]
  },
  {
   "cell_type": "markdown",
   "metadata": {},
   "source": [
    "# Training Preparation -> MCOC (Model, Criterion, Optimizer, Callback) "
   ]
  },
  {
   "cell_type": "code",
   "execution_count": 24,
   "metadata": {
    "ExecuteTime": {
     "end_time": "2020-10-07T13:16:06.080251Z",
     "start_time": "2020-10-07T13:16:02.423832Z"
    }
   },
   "outputs": [],
   "source": [
    "model = FashionClassifier(config.input_size, config.n1, config.n2, config.output_size, config.dropout).to(device)\n",
    "criterion = nn.NLLLoss()\n",
    "optimizer = optim.AdamW(model.parameters(), lr=0.001)\n",
    "callback = Callback(model, config, outdir=\"model\")"
   ]
  },
  {
   "cell_type": "markdown",
   "metadata": {},
   "source": [
    "# Training "
   ]
  },
  {
   "cell_type": "code",
   "execution_count": 33,
   "metadata": {
    "ExecuteTime": {
     "end_time": "2020-10-07T13:35:07.097388Z",
     "start_time": "2020-10-07T13:35:07.090377Z"
    }
   },
   "outputs": [],
   "source": [
    "from tqdm.auto import tqdm\n",
    "\n",
    "def loop_fn(mode, dataset, dataloader, model, criterion, optimizer, device):\n",
    "    if mode == \"train\":\n",
    "        model.train()\n",
    "    elif mode == \"test\":\n",
    "        model.eval()\n",
    "    cost = correct = 0\n",
    "    for feature, target in tqdm(dataloader, desc=mode.title()):\n",
    "        feature, target = feature.to(device), target.to(device)\n",
    "        output = model(feature)\n",
    "        loss = criterion(output, target)\n",
    "        \n",
    "        if mode == \"train\":\n",
    "            loss.backward()\n",
    "            optimizer.step()\n",
    "            optimizer.zero_grad()\n",
    "            \n",
    "        cost += loss.item() * feature.shape[0]\n",
    "        correct += (output.argmax(1) == target).sum().item()\n",
    "    cost = cost / len(dataset)\n",
    "    acc = correct / len(dataset)\n",
    "    \n",
    "    return cost, acc"
   ]
  },
  {
   "cell_type": "code",
   "execution_count": 34,
   "metadata": {
    "ExecuteTime": {
     "end_time": "2020-10-07T13:44:39.777357Z",
     "start_time": "2020-10-07T13:35:12.861936Z"
    }
   },
   "outputs": [
    {
     "name": "stderr",
     "output_type": "stream",
     "text": [
      "Train: 100%|███████████████████████████████████████████| 313/313 [00:35<00:00,  8.94it/s]\n",
      "Test: 100%|████████████████████████████████████████████| 157/157 [01:26<00:00,  1.82it/s]\n"
     ]
    },
    {
     "name": "stdout",
     "output_type": "stream",
     "text": [
      "\n",
      "Epoch     1\n",
      "Train_cost  = 0.4216 | Test_cost  = 0.3725 | Train_score = 0.8489 | Test_score = 0.8631 |\n"
     ]
    },
    {
     "name": "stderr",
     "output_type": "stream",
     "text": [
      "Train: 100%|███████████████████████████████████████████| 313/313 [00:11<00:00, 27.66it/s]\n",
      "Test: 100%|████████████████████████████████████████████| 157/157 [00:04<00:00, 32.03it/s]\n",
      "Train:   1%|▍                                            | 3/313 [00:00<00:11, 27.27it/s]"
     ]
    },
    {
     "name": "stdout",
     "output_type": "stream",
     "text": [
      "\n",
      "Epoch     2\n",
      "Train_cost  = 0.3899 | Test_cost  = 0.3699 | Train_score = 0.8605 | Test_score = 0.8626 |\n",
      "\u001b[31m==> EarlyStop patience =  1 | Best test_score: 0.8631\u001b[0m\n"
     ]
    },
    {
     "name": "stderr",
     "output_type": "stream",
     "text": [
      "Train: 100%|███████████████████████████████████████████| 313/313 [00:11<00:00, 26.46it/s]\n",
      "Test: 100%|████████████████████████████████████████████| 157/157 [00:05<00:00, 31.08it/s]\n",
      "Train:   1%|▍                                            | 3/313 [00:00<00:13, 23.07it/s]"
     ]
    },
    {
     "name": "stdout",
     "output_type": "stream",
     "text": [
      "\n",
      "Epoch     3\n",
      "Train_cost  = 0.3666 | Test_cost  = 0.3584 | Train_score = 0.8681 | Test_score = 0.8680 |\n"
     ]
    },
    {
     "name": "stderr",
     "output_type": "stream",
     "text": [
      "Train: 100%|███████████████████████████████████████████| 313/313 [00:11<00:00, 26.72it/s]\n",
      "Test: 100%|████████████████████████████████████████████| 157/157 [00:05<00:00, 31.01it/s]\n",
      "Train:   1%|▍                                            | 3/313 [00:00<00:11, 26.31it/s]"
     ]
    },
    {
     "name": "stdout",
     "output_type": "stream",
     "text": [
      "\n",
      "Epoch     4\n",
      "Train_cost  = 0.3502 | Test_cost  = 0.3319 | Train_score = 0.8732 | Test_score = 0.8777 |\n"
     ]
    },
    {
     "name": "stderr",
     "output_type": "stream",
     "text": [
      "Train: 100%|███████████████████████████████████████████| 313/313 [00:11<00:00, 27.71it/s]\n",
      "Test: 100%|████████████████████████████████████████████| 157/157 [00:04<00:00, 31.97it/s]\n",
      "Train:   1%|▍                                            | 3/313 [00:00<00:11, 27.15it/s]"
     ]
    },
    {
     "name": "stdout",
     "output_type": "stream",
     "text": [
      "\n",
      "Epoch     5\n",
      "Train_cost  = 0.3333 | Test_cost  = 0.3391 | Train_score = 0.8787 | Test_score = 0.8777 |\n",
      "\u001b[31m==> EarlyStop patience =  1 | Best test_score: 0.8777\u001b[0m\n"
     ]
    },
    {
     "name": "stderr",
     "output_type": "stream",
     "text": [
      "Train: 100%|███████████████████████████████████████████| 313/313 [00:11<00:00, 27.78it/s]\n",
      "Test: 100%|████████████████████████████████████████████| 157/157 [00:04<00:00, 32.24it/s]\n",
      "Train:   1%|▍                                            | 3/313 [00:00<00:12, 24.00it/s]"
     ]
    },
    {
     "name": "stdout",
     "output_type": "stream",
     "text": [
      "\n",
      "Epoch     6\n",
      "Train_cost  = 0.3225 | Test_cost  = 0.3331 | Train_score = 0.8806 | Test_score = 0.8780 |\n"
     ]
    },
    {
     "name": "stderr",
     "output_type": "stream",
     "text": [
      "Train: 100%|███████████████████████████████████████████| 313/313 [00:11<00:00, 27.75it/s]\n",
      "Test: 100%|████████████████████████████████████████████| 157/157 [00:04<00:00, 32.22it/s]\n",
      "Train:   1%|▍                                            | 3/313 [00:00<00:11, 26.79it/s]"
     ]
    },
    {
     "name": "stdout",
     "output_type": "stream",
     "text": [
      "\n",
      "Epoch     7\n",
      "Train_cost  = 0.3105 | Test_cost  = 0.3148 | Train_score = 0.8855 | Test_score = 0.8832 |\n"
     ]
    },
    {
     "name": "stderr",
     "output_type": "stream",
     "text": [
      "Train: 100%|███████████████████████████████████████████| 313/313 [00:11<00:00, 27.79it/s]\n",
      "Test: 100%|████████████████████████████████████████████| 157/157 [00:04<00:00, 32.07it/s]\n",
      "Train:   1%|▍                                            | 3/313 [00:00<00:11, 26.78it/s]"
     ]
    },
    {
     "name": "stdout",
     "output_type": "stream",
     "text": [
      "\n",
      "Epoch     8\n",
      "Train_cost  = 0.3033 | Test_cost  = 0.3102 | Train_score = 0.8883 | Test_score = 0.8881 |\n"
     ]
    },
    {
     "name": "stderr",
     "output_type": "stream",
     "text": [
      "Train: 100%|███████████████████████████████████████████| 313/313 [00:11<00:00, 27.78it/s]\n",
      "Test: 100%|████████████████████████████████████████████| 157/157 [00:04<00:00, 32.34it/s]\n",
      "Train:   1%|▍                                            | 3/313 [00:00<00:12, 25.42it/s]"
     ]
    },
    {
     "name": "stdout",
     "output_type": "stream",
     "text": [
      "\n",
      "Epoch     9\n",
      "Train_cost  = 0.2948 | Test_cost  = 0.3088 | Train_score = 0.8923 | Test_score = 0.8857 |\n",
      "\u001b[31m==> EarlyStop patience =  1 | Best test_score: 0.8881\u001b[0m\n"
     ]
    },
    {
     "name": "stderr",
     "output_type": "stream",
     "text": [
      "Train: 100%|███████████████████████████████████████████| 313/313 [00:11<00:00, 27.74it/s]\n",
      "Test: 100%|████████████████████████████████████████████| 157/157 [00:04<00:00, 32.29it/s]\n",
      "Train:   1%|▍                                            | 3/313 [00:00<00:11, 26.32it/s]"
     ]
    },
    {
     "name": "stdout",
     "output_type": "stream",
     "text": [
      "\n",
      "Epoch    10\n",
      "Train_cost  = 0.2849 | Test_cost  = 0.3192 | Train_score = 0.8944 | Test_score = 0.8814 |\n",
      "\u001b[31m==> EarlyStop patience =  2 | Best test_score: 0.8881\u001b[0m\n"
     ]
    },
    {
     "name": "stderr",
     "output_type": "stream",
     "text": [
      "Train: 100%|███████████████████████████████████████████| 313/313 [00:11<00:00, 27.79it/s]\n",
      "Test: 100%|████████████████████████████████████████████| 157/157 [00:05<00:00, 30.78it/s]\n",
      "Train:   1%|▍                                            | 3/313 [00:00<00:12, 25.63it/s]"
     ]
    },
    {
     "name": "stdout",
     "output_type": "stream",
     "text": [
      "\n",
      "Epoch    11\n",
      "Train_cost  = 0.2776 | Test_cost  = 0.3289 | Train_score = 0.8974 | Test_score = 0.8802 |\n",
      "\u001b[31m==> EarlyStop patience =  3 | Best test_score: 0.8881\u001b[0m\n"
     ]
    },
    {
     "name": "stderr",
     "output_type": "stream",
     "text": [
      "Train: 100%|███████████████████████████████████████████| 313/313 [00:11<00:00, 26.36it/s]\n",
      "Test: 100%|████████████████████████████████████████████| 157/157 [00:05<00:00, 29.32it/s]\n",
      "Train:   1%|▍                                            | 3/313 [00:00<00:12, 24.01it/s]"
     ]
    },
    {
     "name": "stdout",
     "output_type": "stream",
     "text": [
      "\n",
      "Epoch    12\n",
      "Train_cost  = 0.2715 | Test_cost  = 0.3059 | Train_score = 0.8991 | Test_score = 0.8893 |\n"
     ]
    },
    {
     "name": "stderr",
     "output_type": "stream",
     "text": [
      "Train: 100%|███████████████████████████████████████████| 313/313 [00:12<00:00, 25.35it/s]\n",
      "Test: 100%|████████████████████████████████████████████| 157/157 [00:05<00:00, 31.27it/s]\n",
      "Train:   1%|▍                                            | 3/313 [00:00<00:11, 26.79it/s]"
     ]
    },
    {
     "name": "stdout",
     "output_type": "stream",
     "text": [
      "\n",
      "Epoch    13\n",
      "Train_cost  = 0.2679 | Test_cost  = 0.3154 | Train_score = 0.9014 | Test_score = 0.8863 |\n",
      "\u001b[31m==> EarlyStop patience =  1 | Best test_score: 0.8893\u001b[0m\n"
     ]
    },
    {
     "name": "stderr",
     "output_type": "stream",
     "text": [
      "Train: 100%|███████████████████████████████████████████| 313/313 [00:11<00:00, 27.90it/s]\n",
      "Test: 100%|████████████████████████████████████████████| 157/157 [00:04<00:00, 32.06it/s]\n",
      "Train:   1%|▍                                            | 3/313 [00:00<00:11, 28.04it/s]"
     ]
    },
    {
     "name": "stdout",
     "output_type": "stream",
     "text": [
      "\n",
      "Epoch    14\n",
      "Train_cost  = 0.2621 | Test_cost  = 0.3177 | Train_score = 0.9013 | Test_score = 0.8839 |\n",
      "\u001b[31m==> EarlyStop patience =  2 | Best test_score: 0.8893\u001b[0m\n"
     ]
    },
    {
     "name": "stderr",
     "output_type": "stream",
     "text": [
      "Train: 100%|███████████████████████████████████████████| 313/313 [00:11<00:00, 27.56it/s]\n",
      "Test: 100%|████████████████████████████████████████████| 157/157 [00:04<00:00, 31.84it/s]\n",
      "Train:   1%|▍                                            | 3/313 [00:00<00:11, 27.51it/s]"
     ]
    },
    {
     "name": "stdout",
     "output_type": "stream",
     "text": [
      "\n",
      "Epoch    15\n",
      "Train_cost  = 0.2537 | Test_cost  = 0.3025 | Train_score = 0.9058 | Test_score = 0.8900 |\n"
     ]
    },
    {
     "name": "stderr",
     "output_type": "stream",
     "text": [
      "Train: 100%|███████████████████████████████████████████| 313/313 [00:11<00:00, 27.51it/s]\n",
      "Test: 100%|████████████████████████████████████████████| 157/157 [00:04<00:00, 31.79it/s]\n",
      "Train:   1%|▍                                            | 3/313 [00:00<00:11, 26.78it/s]"
     ]
    },
    {
     "name": "stdout",
     "output_type": "stream",
     "text": [
      "\n",
      "Epoch    16\n",
      "Train_cost  = 0.2490 | Test_cost  = 0.3084 | Train_score = 0.9064 | Test_score = 0.8889 |\n",
      "\u001b[31m==> EarlyStop patience =  1 | Best test_score: 0.8900\u001b[0m\n"
     ]
    },
    {
     "name": "stderr",
     "output_type": "stream",
     "text": [
      "Train: 100%|███████████████████████████████████████████| 313/313 [00:11<00:00, 27.54it/s]\n",
      "Test: 100%|████████████████████████████████████████████| 157/157 [00:04<00:00, 31.93it/s]\n",
      "Train:   1%|▍                                            | 3/313 [00:00<00:11, 26.79it/s]"
     ]
    },
    {
     "name": "stdout",
     "output_type": "stream",
     "text": [
      "\n",
      "Epoch    17\n",
      "Train_cost  = 0.2431 | Test_cost  = 0.3092 | Train_score = 0.9079 | Test_score = 0.8910 |\n"
     ]
    },
    {
     "name": "stderr",
     "output_type": "stream",
     "text": [
      "Train: 100%|███████████████████████████████████████████| 313/313 [00:11<00:00, 27.89it/s]\n",
      "Test: 100%|████████████████████████████████████████████| 157/157 [00:04<00:00, 32.29it/s]\n",
      "Train:   1%|▍                                            | 3/313 [00:00<00:10, 28.31it/s]"
     ]
    },
    {
     "name": "stdout",
     "output_type": "stream",
     "text": [
      "\n",
      "Epoch    18\n",
      "Train_cost  = 0.2420 | Test_cost  = 0.3023 | Train_score = 0.9082 | Test_score = 0.8919 |\n"
     ]
    },
    {
     "name": "stderr",
     "output_type": "stream",
     "text": [
      "Train: 100%|███████████████████████████████████████████| 313/313 [00:11<00:00, 28.08it/s]\n",
      "Test: 100%|████████████████████████████████████████████| 157/157 [00:04<00:00, 32.21it/s]\n",
      "Train:   1%|▍                                            | 3/313 [00:00<00:11, 27.52it/s]"
     ]
    },
    {
     "name": "stdout",
     "output_type": "stream",
     "text": [
      "\n",
      "Epoch    19\n",
      "Train_cost  = 0.2368 | Test_cost  = 0.3060 | Train_score = 0.9119 | Test_score = 0.8941 |\n"
     ]
    },
    {
     "name": "stderr",
     "output_type": "stream",
     "text": [
      "Train: 100%|███████████████████████████████████████████| 313/313 [00:11<00:00, 27.42it/s]\n",
      "Test: 100%|████████████████████████████████████████████| 157/157 [00:05<00:00, 31.03it/s]\n"
     ]
    },
    {
     "name": "stdout",
     "output_type": "stream",
     "text": [
      "\n",
      "Epoch    20\n",
      "Train_cost  = 0.2313 | Test_cost  = 0.3050 | Train_score = 0.9127 | Test_score = 0.8919 |\n"
     ]
    },
    {
     "data": {
      "image/png": "[encoded data removed]",
      "text/plain": [
       "<Figure size 576x360 with 1 Axes>"
      ]
     },
     "metadata": {
      "needs_background": "light"
     },
     "output_type": "display_data"
    },
    {
     "data": {
      "image/png": "[encoded data removed]",
      "text/plain": [
       "<Figure size 576x360 with 1 Axes>"
      ]
     },
     "metadata": {
      "needs_background": "light"
     },
     "output_type": "display_data"
    },
    {
     "name": "stderr",
     "output_type": "stream",
     "text": [
      "Train:   1%|▍                                            | 3/313 [00:00<00:12, 25.00it/s]"
     ]
    },
    {
     "name": "stdout",
     "output_type": "stream",
     "text": [
      "\u001b[31m==> EarlyStop patience =  1 | Best test_score: 0.8941\u001b[0m\n"
     ]
    },
    {
     "name": "stderr",
     "output_type": "stream",
     "text": [
      "Train: 100%|███████████████████████████████████████████| 313/313 [00:11<00:00, 26.92it/s]\n",
      "Test: 100%|████████████████████████████████████████████| 157/157 [00:04<00:00, 31.70it/s]\n",
      "Train:   1%|▍                                            | 3/313 [00:00<00:11, 27.53it/s]"
     ]
    },
    {
     "name": "stdout",
     "output_type": "stream",
     "text": [
      "\n",
      "Epoch    21\n",
      "Train_cost  = 0.2261 | Test_cost  = 0.3159 | Train_score = 0.9161 | Test_score = 0.8930 |\n",
      "\u001b[31m==> EarlyStop patience =  2 | Best test_score: 0.8941\u001b[0m\n"
     ]
    },
    {
     "name": "stderr",
     "output_type": "stream",
     "text": [
      "Train: 100%|███████████████████████████████████████████| 313/313 [00:11<00:00, 27.27it/s]\n",
      "Test: 100%|████████████████████████████████████████████| 157/157 [00:04<00:00, 31.72it/s]\n",
      "Train:   1%|▍                                            | 3/313 [00:00<00:11, 27.77it/s]"
     ]
    },
    {
     "name": "stdout",
     "output_type": "stream",
     "text": [
      "\n",
      "Epoch    22\n",
      "Train_cost  = 0.2258 | Test_cost  = 0.3034 | Train_score = 0.9134 | Test_score = 0.8937 |\n",
      "\u001b[31m==> EarlyStop patience =  3 | Best test_score: 0.8941\u001b[0m\n"
     ]
    },
    {
     "name": "stderr",
     "output_type": "stream",
     "text": [
      "Train: 100%|███████████████████████████████████████████| 313/313 [00:11<00:00, 27.75it/s]\n",
      "Test: 100%|████████████████████████████████████████████| 157/157 [00:04<00:00, 32.29it/s]\n",
      "Train:   1%|▍                                            | 3/313 [00:00<00:11, 27.03it/s]"
     ]
    },
    {
     "name": "stdout",
     "output_type": "stream",
     "text": [
      "\n",
      "Epoch    23\n",
      "Train_cost  = 0.2190 | Test_cost  = 0.3019 | Train_score = 0.9178 | Test_score = 0.8944 |\n"
     ]
    },
    {
     "name": "stderr",
     "output_type": "stream",
     "text": [
      "Train: 100%|███████████████████████████████████████████| 313/313 [00:11<00:00, 27.96it/s]\n",
      "Test: 100%|████████████████████████████████████████████| 157/157 [00:04<00:00, 32.36it/s]\n",
      "Train:   1%|▍                                            | 3/313 [00:00<00:10, 28.29it/s]"
     ]
    },
    {
     "name": "stdout",
     "output_type": "stream",
     "text": [
      "\n",
      "Epoch    24\n",
      "Train_cost  = 0.2142 | Test_cost  = 0.3127 | Train_score = 0.9202 | Test_score = 0.8910 |\n",
      "\u001b[31m==> EarlyStop patience =  1 | Best test_score: 0.8944\u001b[0m\n"
     ]
    },
    {
     "name": "stderr",
     "output_type": "stream",
     "text": [
      "Train: 100%|███████████████████████████████████████████| 313/313 [00:11<00:00, 27.47it/s]\n",
      "Test: 100%|████████████████████████████████████████████| 157/157 [00:04<00:00, 32.23it/s]\n",
      "Train:   1%|▍                                            | 3/313 [00:00<00:11, 27.51it/s]"
     ]
    },
    {
     "name": "stdout",
     "output_type": "stream",
     "text": [
      "\n",
      "Epoch    25\n",
      "Train_cost  = 0.2145 | Test_cost  = 0.3146 | Train_score = 0.9177 | Test_score = 0.8925 |\n",
      "\u001b[31m==> EarlyStop patience =  2 | Best test_score: 0.8944\u001b[0m\n"
     ]
    },
    {
     "name": "stderr",
     "output_type": "stream",
     "text": [
      "Train: 100%|███████████████████████████████████████████| 313/313 [00:11<00:00, 28.04it/s]\n",
      "Test: 100%|████████████████████████████████████████████| 157/157 [00:04<00:00, 32.41it/s]\n",
      "Train:   1%|▍                                            | 3/313 [00:00<00:11, 27.78it/s]"
     ]
    },
    {
     "name": "stdout",
     "output_type": "stream",
     "text": [
      "\n",
      "Epoch    26\n",
      "Train_cost  = 0.2057 | Test_cost  = 0.3175 | Train_score = 0.9228 | Test_score = 0.8900 |\n",
      "\u001b[31m==> EarlyStop patience =  3 | Best test_score: 0.8944\u001b[0m\n"
     ]
    },
    {
     "name": "stderr",
     "output_type": "stream",
     "text": [
      "Train: 100%|███████████████████████████████████████████| 313/313 [00:11<00:00, 28.05it/s]\n",
      "Test: 100%|████████████████████████████████████████████| 157/157 [00:04<00:00, 32.46it/s]\n",
      "Train:   1%|▍                                            | 3/313 [00:00<00:11, 27.78it/s]"
     ]
    },
    {
     "name": "stdout",
     "output_type": "stream",
     "text": [
      "\n",
      "Epoch    27\n",
      "Train_cost  = 0.2050 | Test_cost  = 0.3138 | Train_score = 0.9211 | Test_score = 0.8932 |\n",
      "\u001b[31m==> EarlyStop patience =  4 | Best test_score: 0.8944\u001b[0m\n"
     ]
    },
    {
     "name": "stderr",
     "output_type": "stream",
     "text": [
      "Train: 100%|███████████████████████████████████████████| 313/313 [00:11<00:00, 28.00it/s]\n",
      "Test: 100%|████████████████████████████████████████████| 157/157 [00:07<00:00, 21.35it/s]\n"
     ]
    },
    {
     "name": "stdout",
     "output_type": "stream",
     "text": [
      "\n",
      "Epoch    28\n",
      "Train_cost  = 0.1978 | Test_cost  = 0.3153 | Train_score = 0.9254 | Test_score = 0.8934 |\n",
      "\u001b[31m==> EarlyStop patience =  5 | Best test_score: 0.8944\u001b[0m\n",
      "\u001b[31m==> Execute Early Stopping at epoch: 28 | Best test_score: 0.8944\u001b[0m\n",
      "\u001b[31m==> Best model is saved at model\u001b[0m\n"
     ]
    },
    {
     "data": {
      "image/png": "[encoded data removed]",
      "text/plain": [
       "<Figure size 576x360 with 1 Axes>"
      ]
     },
     "metadata": {
      "needs_background": "light"
     },
     "output_type": "display_data"
    },
    {
     "data": {
      "image/png": "[encoded data removed]",
      "text/plain": [
       "<Figure size 576x360 with 1 Axes>"
      ]
     },
     "metadata": {
      "needs_background": "light"
     },
     "output_type": "display_data"
    }
   ],
   "source": [
    "while True:\n",
    "    train_cost, train_score = loop_fn(\"train\", train_set, trainloader, model, criterion, optimizer, device)\n",
    "    with torch.no_grad():\n",
    "        test_cost, test_score = loop_fn(\"test\", test_set, testloader, model, criterion, optimizer, device)\n",
    "        \n",
    "    # Logging\n",
    "    callback.log(train_cost, test_cost, train_score, test_score)\n",
    "    \n",
    "    # Checkpoint\n",
    "    callback.save_checkpoint()\n",
    "    \n",
    "    # Runtime Plotting\n",
    "    callback.cost_runtime_plotting()\n",
    "    callback.score_runtime_plotting()\n",
    "    \n",
    "    # Early Stopping\n",
    "    if callback.early_stopping(model, monitor=\"test_score\"):\n",
    "        callback.plot_cost()\n",
    "        callback.plot_score()\n",
    "        break"
   ]
  },
  {
   "cell_type": "code",
   "execution_count": 35,
   "metadata": {
    "ExecuteTime": {
     "end_time": "2020-10-07T13:46:39.206802Z",
     "start_time": "2020-10-07T13:46:38.481143Z"
    }
   },
   "outputs": [
    {
     "name": "stdout",
     "output_type": "stream",
     "text": [
      "Wed Oct 07 20:46:39 2020       \n",
      "+-----------------------------------------------------------------------------+\n",
      "| NVIDIA-SMI 425.46       Driver Version: 425.46       CUDA Version: 10.1     |\n",
      "|-------------------------------+----------------------+----------------------+\n",
      "| GPU  Name            TCC/WDDM | Bus-Id        Disp.A | Volatile Uncorr. ECC |\n",
      "| Fan  Temp  Perf  Pwr:Usage/Cap|         Memory-Usage | GPU-Util  Compute M. |\n",
      "|===============================+======================+======================|\n",
      "|   0  GeForce GTX 105... WDDM  | 00000000:01:00.0 Off |                  N/A |\n",
      "| N/A   67C    P8    N/A /  N/A |     75MiB /  4096MiB |      0%      Default |\n",
      "+-------------------------------+----------------------+----------------------+\n",
      "                                                                               \n",
      "+-----------------------------------------------------------------------------+\n",
      "| Processes:                                                       GPU Memory |\n",
      "|  GPU       PID   Type   Process name                             Usage      |\n",
      "|=============================================================================|\n",
      "|    0     16496      C   ...nd\\Anaconda3\\envs\\tensorflow\\python.exe N/A      |\n",
      "+-----------------------------------------------------------------------------+\n"
     ]
    }
   ],
   "source": [
    "!nvidia-smi"
   ]
  },
  {
   "cell_type": "code",
   "execution_count": 36,
   "metadata": {
    "ExecuteTime": {
     "end_time": "2020-10-07T13:47:13.539980Z",
     "start_time": "2020-10-07T13:47:13.535980Z"
    }
   },
   "outputs": [
    {
     "data": {
      "text/plain": [
       "0"
      ]
     },
     "execution_count": 36,
     "metadata": {},
     "output_type": "execute_result"
    }
   ],
   "source": [
    "torch.cuda.current_device()"
   ]
  },
  {
   "cell_type": "code",
   "execution_count": 38,
   "metadata": {
    "ExecuteTime": {
     "end_time": "2020-10-07T13:47:35.300096Z",
     "start_time": "2020-10-07T13:47:35.296084Z"
    }
   },
   "outputs": [
    {
     "data": {
      "text/plain": [
       "<torch.cuda.device at 0x15d83c12e48>"
      ]
     },
     "execution_count": 38,
     "metadata": {},
     "output_type": "execute_result"
    }
   ],
   "source": [
    "torch.cuda.device(0)"
   ]
  },
  {
   "cell_type": "code",
   "execution_count": 39,
   "metadata": {
    "ExecuteTime": {
     "end_time": "2020-10-07T13:47:39.869109Z",
     "start_time": "2020-10-07T13:47:39.864108Z"
    }
   },
   "outputs": [
    {
     "data": {
      "text/plain": [
       "1"
      ]
     },
     "execution_count": 39,
     "metadata": {},
     "output_type": "execute_result"
    }
   ],
   "source": [
    "torch.cuda.device_count()"
   ]
  },
  {
   "cell_type": "code",
   "execution_count": 40,
   "metadata": {
    "ExecuteTime": {
     "end_time": "2020-10-07T13:47:44.500160Z",
     "start_time": "2020-10-07T13:47:44.496160Z"
    }
   },
   "outputs": [
    {
     "data": {
      "text/plain": [
       "'GeForce GTX 1050 Ti'"
      ]
     },
     "execution_count": 40,
     "metadata": {},
     "output_type": "execute_result"
    }
   ],
   "source": [
    "torch.cuda.get_device_name(0)"
   ]
  },
  {
   "cell_type": "code",
   "execution_count": 41,
   "metadata": {
    "ExecuteTime": {
     "end_time": "2020-10-07T13:47:49.532853Z",
     "start_time": "2020-10-07T13:47:49.527852Z"
    }
   },
   "outputs": [
    {
     "data": {
      "text/plain": [
       "True"
      ]
     },
     "execution_count": 41,
     "metadata": {},
     "output_type": "execute_result"
    }
   ],
   "source": [
    "torch.cuda.is_available()"
   ]
  },
  {
   "cell_type": "markdown",
   "metadata": {},
   "source": [
    "# Load best model"
   ]
  },
  {
   "cell_type": "code",
   "execution_count": 49,
   "metadata": {
    "ExecuteTime": {
     "end_time": "2020-10-07T14:25:14.352368Z",
     "start_time": "2020-10-07T14:25:13.481801Z"
    }
   },
   "outputs": [],
   "source": [
    "# Kalau mau nge run di notebook lain\n",
    "\n",
    "weights = torch.load(\"model/weights_best.pth\", map_location=\"cuda\")\n",
    "config = torch.load(\"model/configs.pth\", map_location=\"cuda\")\n",
    "\n",
    "model = FashionClassifier(config.input_size, config.n1, config.n2, config.output_size, config.dropout)\n",
    "model.load_state_dict(weights)\n",
    "model = model.to(device)"
   ]
  },
  {
   "cell_type": "code",
   "execution_count": 50,
   "metadata": {
    "ExecuteTime": {
     "end_time": "2020-10-07T14:25:15.799542Z",
     "start_time": "2020-10-07T14:25:15.674546Z"
    }
   },
   "outputs": [
    {
     "data": {
      "text/plain": [
       "OrderedDict([('fc.1.block.linear.weight',\n",
       "              tensor([[ 0.3399,  0.2197, -0.0570,  ..., -0.0679, -0.2506, -0.1260],\n",
       "                      [ 0.1978,  0.1906, -0.0034,  ..., -0.3085, -0.0183,  0.0688],\n",
       "                      [-0.0310, -0.0166,  0.0010,  ..., -0.2334, -0.1119, -0.1374],\n",
       "                      ...,\n",
       "                      [ 0.1616,  0.1459, -0.0548,  ...,  0.1562,  0.2279,  0.2682],\n",
       "                      [ 0.1993,  0.1005, -0.2797,  ..., -0.0424, -0.0449, -0.2152],\n",
       "                      [ 0.0018,  0.0102, -0.0165,  ..., -0.0353,  0.0016,  0.0129]],\n",
       "                     device='cuda:0')),\n",
       "             ('fc.1.block.linear.bias',\n",
       "              tensor([ 1.5971e-01,  1.2317e-01,  5.5964e-01,  5.8085e-02, -6.1814e-03,\n",
       "                       5.4214e-01,  1.9761e-01,  4.2718e-02,  2.9911e-01,  1.2682e-01,\n",
       "                       1.2612e-01,  1.2478e-01,  2.3938e-01, -3.4676e-02,  2.3792e-01,\n",
       "                      -4.9712e-03, -1.2771e-01, -3.6262e-01,  3.1962e-01, -2.2836e-02,\n",
       "                       5.2655e-02,  3.4861e-03, -1.3950e-01,  1.0131e-01, -2.7182e-01,\n",
       "                      -1.3314e-03, -1.4939e-01, -2.1517e-01,  1.1828e-01, -2.5870e-01,\n",
       "                      -4.8089e-02,  4.4349e-01,  3.5095e-02,  1.8048e-01, -7.2128e-03,\n",
       "                      -5.6316e-03,  3.7431e-01,  7.1650e-03,  1.6809e-01,  1.8987e-01,\n",
       "                      -1.4851e-01,  4.7474e-01,  2.3271e-01, -2.8766e-01,  1.1045e-01,\n",
       "                       6.7957e-02, -3.0454e-02, -2.9188e-02,  2.9594e-01,  1.8987e-01,\n",
       "                      -5.0055e-02,  2.8059e-02,  2.9586e-01, -1.7091e-02,  1.6984e-01,\n",
       "                      -5.3172e-02,  1.8404e-01,  2.1982e-01,  1.7268e-01, -1.1418e-01,\n",
       "                       1.4879e-01,  1.5992e-01, -1.8109e-02, -3.3078e-02,  3.1387e-01,\n",
       "                      -2.5098e-01,  2.6504e-01, -2.2204e-01, -1.9721e-01,  5.0561e-01,\n",
       "                       1.2701e-01,  1.6139e-01, -6.3148e-05, -1.0271e-01,  1.4856e-01,\n",
       "                       7.3590e-02, -2.7961e-01,  2.2603e-01,  7.6941e-02,  9.0468e-02,\n",
       "                       1.0712e-01, -2.1124e-01,  1.3200e-01,  2.7943e-01,  5.4920e-02,\n",
       "                      -1.1802e-01,  3.2066e-01,  1.1330e-01,  1.2228e-01,  6.1980e-02,\n",
       "                       3.3087e-01,  3.7621e-01, -3.1777e-02, -2.1351e-02, -7.1812e-02,\n",
       "                      -1.5294e-03, -1.0122e-01,  1.1424e-01,  3.3027e-01,  3.2194e-01,\n",
       "                       1.6879e-01, -1.4228e-02, -1.3310e-01,  1.0803e-01,  1.6693e-02,\n",
       "                       2.3672e-01, -1.3691e-02,  2.3263e-01, -1.4513e-02,  1.1652e-01,\n",
       "                      -1.3246e-01,  4.6285e-01, -1.3252e-01,  3.4086e-02, -6.1322e-02,\n",
       "                      -3.7989e-02,  1.2913e-01,  4.3611e-01, -1.9777e-01,  3.0175e-01,\n",
       "                      -1.4189e-01, -1.4382e-02,  2.9176e-03,  3.0527e-02, -1.8142e-01,\n",
       "                       1.6896e-02, -3.1421e-02,  1.1629e-01,  1.7584e-01, -3.2243e-02,\n",
       "                      -1.8851e-02,  3.5812e-01, -6.7096e-02,  1.8635e-01,  8.7092e-02,\n",
       "                      -2.7346e-01, -9.3187e-03,  9.7323e-03,  4.1279e-02, -2.4822e-01,\n",
       "                       1.2750e-02,  1.6318e-02,  4.0910e-01,  1.5540e-01,  5.3106e-02,\n",
       "                       6.1721e-04, -3.3386e-01, -3.7560e-01,  1.4717e-01,  8.1942e-02,\n",
       "                       2.2779e-01,  5.6402e-02,  2.5826e-01, -2.8006e-01,  3.8466e-01,\n",
       "                      -3.3815e-01, -1.6346e-02, -9.4312e-02, -3.0235e-02,  1.4809e-01,\n",
       "                       1.1834e-02,  9.7175e-02, -1.6769e-01,  2.8727e-01, -3.1182e-01,\n",
       "                      -2.3544e-01,  1.1486e-01,  4.1161e-01, -1.0645e-01,  3.0392e-01,\n",
       "                      -7.6351e-02,  5.3991e-01,  4.3767e-01,  1.6419e-01,  1.6013e-01,\n",
       "                      -2.8659e-02,  2.1159e-01, -1.3271e-01,  1.2947e-01, -3.6172e-01,\n",
       "                       2.1773e-01, -2.2200e-02, -6.3247e-02,  3.4816e-04,  4.7237e-01,\n",
       "                      -3.8811e-02, -2.9397e-01, -3.8176e-02, -2.2474e-02,  5.7313e-01,\n",
       "                       7.6042e-02, -3.9032e-02, -1.4659e-01, -2.8039e-02,  4.2277e-01,\n",
       "                       2.6599e-01,  2.3919e-02,  1.9458e-01,  2.9625e-01, -3.4639e-02,\n",
       "                       9.3666e-02,  2.5547e-01,  6.9344e-03,  1.4813e-01, -2.8966e-01,\n",
       "                      -2.1649e-02,  3.3818e-01, -1.0569e-01, -2.2904e-02, -8.4389e-02,\n",
       "                      -1.9056e-02,  2.1197e-01,  2.6821e-01,  2.2667e-01,  2.5128e-01,\n",
       "                       3.0982e-01,  1.8378e-02,  2.4208e-02,  2.5561e-01,  2.2056e-01,\n",
       "                      -3.7886e-02,  5.2416e-01, -2.3718e-01,  1.9812e-02, -1.5662e-01,\n",
       "                       1.1524e-01,  2.2180e-01,  2.7292e-01,  9.2503e-02, -8.9736e-02,\n",
       "                      -8.3973e-02, -1.4318e-01,  3.8179e-01, -3.9936e-01,  1.9282e-01,\n",
       "                       1.6134e-01,  5.2999e-02, -5.8040e-03,  2.8708e-01,  2.7142e-01,\n",
       "                       4.4197e-01,  3.2504e-01, -5.4744e-02,  3.1798e-02, -3.2521e-02,\n",
       "                       7.3414e-03, -1.8690e-01,  2.7900e-02,  3.5226e-01, -6.4538e-02,\n",
       "                       2.3425e-01,  1.7734e-01,  2.2759e-01,  1.1395e-01, -1.9383e-01,\n",
       "                       1.9594e-03], device='cuda:0')),\n",
       "             ('fc.2.block.linear.weight',\n",
       "              tensor([[-0.1380, -0.0305,  0.1262,  ..., -0.1029, -0.0403,  0.0371],\n",
       "                      [-0.0096,  0.1367, -0.2064,  ..., -0.0457,  0.0500, -0.0116],\n",
       "                      [ 0.0626,  0.0073,  0.0462,  ...,  0.0391, -0.0687, -0.0444],\n",
       "                      ...,\n",
       "                      [ 0.0951,  0.0246,  0.1518,  ...,  0.0528, -0.0725, -0.0204],\n",
       "                      [-0.1359,  0.0138, -0.0818,  ...,  0.0101,  0.0283,  0.0167],\n",
       "                      [ 0.0350,  0.1250, -0.0394,  ...,  0.0489,  0.0704,  0.0597]],\n",
       "                     device='cuda:0')),\n",
       "             ('fc.2.block.linear.bias',\n",
       "              tensor([ 0.2089,  0.1665,  0.1170,  0.2014,  0.1698,  0.3436,  0.0498,  0.2817,\n",
       "                       0.0630,  0.1094,  0.2013, -0.0113,  0.3008,  0.0809, -0.0309,  0.3322,\n",
       "                       0.1559,  0.2609,  0.2580,  0.2000,  0.1309,  0.1314,  0.2285,  0.3329,\n",
       "                       0.1039, -0.1025,  0.1491, -0.0181,  0.0424,  0.1277,  0.3524,  0.1626,\n",
       "                       0.3199,  0.2639,  0.1904,  0.2092,  0.2217,  0.2284,  0.3094,  0.2819,\n",
       "                      -0.1154,  0.2933,  0.3274,  0.3283,  0.1253,  0.1194,  0.1638,  0.1390,\n",
       "                       0.2659,  0.1790, -0.0249,  0.1202, -0.0405,  0.0655,  0.0107,  0.2853,\n",
       "                      -0.0755,  0.2843,  0.0039,  0.2716,  0.1630,  0.1820,  0.1084,  0.3012,\n",
       "                       0.1882,  0.2255,  0.1876,  0.2293,  0.3275,  0.2517,  0.2391, -0.0927,\n",
       "                      -0.0546, -0.0564,  0.0009,  0.1253,  0.2448,  0.3661,  0.3197,  0.1103,\n",
       "                       0.3034,  0.1800,  0.0483,  0.2523, -0.0341,  0.1867,  0.3550,  0.2226,\n",
       "                      -0.0300,  0.3823,  0.2315,  0.2899,  0.2283,  0.1544,  0.2437,  0.1433,\n",
       "                       0.2062,  0.1398,  0.1390,  0.1199,  0.2202,  0.1941,  0.2795,  0.1480,\n",
       "                       0.2005,  0.1980,  0.2058,  0.1056,  0.2025,  0.1437, -0.0502,  0.0006,\n",
       "                       0.1354,  0.2528,  0.1420,  0.1937,  0.3001, -0.0366,  0.1942,  0.1029,\n",
       "                       0.1460,  0.0107,  0.2936,  0.1700, -0.1760,  0.0429,  0.2002, -0.0577],\n",
       "                     device='cuda:0')),\n",
       "             ('fc.3.block.linear.weight',\n",
       "              tensor([[-0.2281, -0.3581, -0.2513,  ..., -0.1228, -0.4256, -0.5711],\n",
       "                      [ 0.0934,  0.1170,  0.1009,  ...,  0.0944, -0.1352, -0.2563],\n",
       "                      [ 0.0526,  0.0435,  0.0737,  ...,  0.0393,  0.1228,  0.0961],\n",
       "                      ...,\n",
       "                      [ 0.1584, -0.2547, -0.1939,  ...,  0.0868, -0.6724, -0.4253],\n",
       "                      [ 0.0700,  0.0847, -0.0263,  ..., -0.1679,  0.0801, -0.0799],\n",
       "                      [-0.1209, -0.0433, -0.1858,  ...,  0.1542,  0.0989,  0.2586]],\n",
       "                     device='cuda:0')),\n",
       "             ('fc.3.block.linear.bias',\n",
       "              tensor([-0.2292, -0.0460, -0.1241,  0.1133,  0.1168, -0.0524,  0.0899,  0.1489,\n",
       "                      -0.0577, -0.1119], device='cuda:0'))])"
      ]
     },
     "execution_count": 50,
     "metadata": {},
     "output_type": "execute_result"
    }
   ],
   "source": [
    "model.state_dict()"
   ]
  },
  {
   "cell_type": "markdown",
   "metadata": {},
   "source": [
    "# Prediksi"
   ]
  },
  {
   "cell_type": "code",
   "execution_count": 51,
   "metadata": {
    "ExecuteTime": {
     "end_time": "2020-10-07T14:25:17.403101Z",
     "start_time": "2020-10-07T14:25:17.346102Z"
    }
   },
   "outputs": [],
   "source": [
    "feature, target = next(iter(testloader)) # Karena contoh, harus nya testloader nya pakai data test yg berbeda\n",
    "feature, target = feature.to(device), target.to(device)"
   ]
  },
  {
   "cell_type": "code",
   "execution_count": 52,
   "metadata": {
    "ExecuteTime": {
     "end_time": "2020-10-07T14:25:18.243242Z",
     "start_time": "2020-10-07T14:25:18.209237Z"
    }
   },
   "outputs": [
    {
     "data": {
      "text/plain": [
       "['Ankle boot',\n",
       " 'Ankle boot',\n",
       " 'Ankle boot',\n",
       " 'Ankle boot',\n",
       " 'Ankle boot',\n",
       " 'Ankle boot',\n",
       " 'Ankle boot',\n",
       " 'Ankle boot',\n",
       " 'Ankle boot',\n",
       " 'Ankle boot',\n",
       " 'Ankle boot',\n",
       " 'Ankle boot',\n",
       " 'Ankle boot',\n",
       " 'Ankle boot',\n",
       " 'Ankle boot',\n",
       " 'Ankle boot',\n",
       " 'Ankle boot',\n",
       " 'Ankle boot',\n",
       " 'Ankle boot',\n",
       " 'Ankle boot',\n",
       " 'Ankle boot',\n",
       " 'Ankle boot',\n",
       " 'Ankle boot',\n",
       " 'Ankle boot',\n",
       " 'Ankle boot',\n",
       " 'Ankle boot',\n",
       " 'Ankle boot',\n",
       " 'Ankle boot',\n",
       " 'Ankle boot',\n",
       " 'Ankle boot',\n",
       " 'Sneaker',\n",
       " 'Ankle boot',\n",
       " 'Sneaker',\n",
       " 'Ankle boot',\n",
       " 'Ankle boot',\n",
       " 'Ankle boot',\n",
       " 'Ankle boot',\n",
       " 'Ankle boot',\n",
       " 'Ankle boot',\n",
       " 'Ankle boot',\n",
       " 'Ankle boot',\n",
       " 'Ankle boot',\n",
       " 'Sneaker',\n",
       " 'Ankle boot',\n",
       " 'Ankle boot',\n",
       " 'Ankle boot',\n",
       " 'Ankle boot',\n",
       " 'Ankle boot',\n",
       " 'Ankle boot',\n",
       " 'Ankle boot',\n",
       " 'Ankle boot',\n",
       " 'Ankle boot',\n",
       " 'Ankle boot',\n",
       " 'Ankle boot',\n",
       " 'Ankle boot',\n",
       " 'Ankle boot',\n",
       " 'Ankle boot',\n",
       " 'Ankle boot',\n",
       " 'Ankle boot',\n",
       " 'Ankle boot',\n",
       " 'Ankle boot',\n",
       " 'Ankle boot',\n",
       " 'Ankle boot',\n",
       " 'Ankle boot',\n",
       " 'Ankle boot',\n",
       " 'Ankle boot',\n",
       " 'Ankle boot',\n",
       " 'Ankle boot',\n",
       " 'Ankle boot',\n",
       " 'Sneaker',\n",
       " 'Ankle boot',\n",
       " 'Ankle boot',\n",
       " 'Ankle boot',\n",
       " 'Ankle boot',\n",
       " 'Ankle boot',\n",
       " 'Ankle boot',\n",
       " 'Ankle boot',\n",
       " 'Ankle boot',\n",
       " 'Ankle boot',\n",
       " 'Ankle boot',\n",
       " 'Ankle boot',\n",
       " 'Ankle boot',\n",
       " 'Ankle boot',\n",
       " 'Ankle boot',\n",
       " 'Ankle boot',\n",
       " 'Ankle boot',\n",
       " 'Ankle boot',\n",
       " 'Ankle boot',\n",
       " 'Ankle boot',\n",
       " 'Ankle boot',\n",
       " 'Ankle boot',\n",
       " 'Sneaker',\n",
       " 'Ankle boot',\n",
       " 'Ankle boot',\n",
       " 'Ankle boot',\n",
       " 'Ankle boot',\n",
       " 'Ankle boot',\n",
       " 'Ankle boot',\n",
       " 'Ankle boot',\n",
       " 'Ankle boot',\n",
       " 'Ankle boot',\n",
       " 'Ankle boot',\n",
       " 'Ankle boot',\n",
       " 'Ankle boot',\n",
       " 'Ankle boot',\n",
       " 'Ankle boot',\n",
       " 'Ankle boot',\n",
       " 'Ankle boot',\n",
       " 'Ankle boot',\n",
       " 'Ankle boot',\n",
       " 'Ankle boot',\n",
       " 'Ankle boot',\n",
       " 'Ankle boot',\n",
       " 'Ankle boot',\n",
       " 'Ankle boot',\n",
       " 'Sneaker',\n",
       " 'Ankle boot',\n",
       " 'Sandal',\n",
       " 'Ankle boot',\n",
       " 'Ankle boot',\n",
       " 'Ankle boot',\n",
       " 'Ankle boot',\n",
       " 'Ankle boot',\n",
       " 'Ankle boot',\n",
       " 'Ankle boot',\n",
       " 'Ankle boot',\n",
       " 'Ankle boot',\n",
       " 'Ankle boot']"
      ]
     },
     "execution_count": 52,
     "metadata": {},
     "output_type": "execute_result"
    }
   ],
   "source": [
    "with torch.no_grad():\n",
    "    model.eval()\n",
    "    output = model(feature)\n",
    "    preds = output.argmax(1)\n",
    "[label2cat[pred] for pred in preds]"
   ]
  },
  {
   "cell_type": "markdown",
   "metadata": {},
   "source": [
    "# Visualisasi "
   ]
  },
  {
   "cell_type": "code",
   "execution_count": 53,
   "metadata": {
    "ExecuteTime": {
     "end_time": "2020-10-07T14:25:20.765774Z",
     "start_time": "2020-10-07T14:25:20.761756Z"
    }
   },
   "outputs": [],
   "source": [
    "import matplotlib.pyplot as plt"
   ]
  },
  {
   "cell_type": "code",
   "execution_count": 55,
   "metadata": {
    "ExecuteTime": {
     "end_time": "2020-10-07T14:26:03.202454Z",
     "start_time": "2020-10-07T14:26:00.889238Z"
    }
   },
   "outputs": [
    {
     "data": {
      "image/png": "[encoded data removed]",
      "text/plain": [
       "<Figure size 1728x1728 with 36 Axes>"
      ]
     },
     "metadata": {
      "needs_background": "light"
     },
     "output_type": "display_data"
    }
   ],
   "source": [
    "fig, axes = plt.subplots(6, 6, figsize=(24, 24))\n",
    "for img, label, pred, ax in zip(feature, target, preds, axes.flatten()):\n",
    "    ax.imshow(img.view(28, 28).cpu(), cmap='gray')\n",
    "    font = {\"color\": 'r'} if label != pred else {\"color\": 'g'}\n",
    "    label, pred = label2cat[label.item()], label2cat[pred.item()]\n",
    "    ax.set_title(f\"Label: {label} | Pred: {pred}\", fontdict=font);\n",
    "    ax.axis('off');"
   ]
  }
 ],
 "metadata": {
  "kernelspec": {
   "display_name": "Python 3.7.6 64-bit ('tensorflow': conda)",
   "language": "python",
   "name": "python37664bittensorflowcondae25139d521174ed8abc6d94fb10b9a60"
  },
  "language_info": {
   "codemirror_mode": {
    "name": "ipython",
    "version": 3
   },
   "file_extension": ".py",
   "mimetype": "text/x-python",
   "name": "python",
   "nbconvert_exporter": "python",
   "pygments_lexer": "ipython3",
   "version": "3.7.6"
  }
 },
 "nbformat": 4,
 "nbformat_minor": 2
}
